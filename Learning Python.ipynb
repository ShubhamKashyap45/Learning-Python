{
 "cells": [
  {
   "cell_type": "code",
   "execution_count": 1,
   "metadata": {},
   "outputs": [
    {
     "name": "stdout",
     "output_type": "stream",
     "text": [
      "Hello World\n"
     ]
    }
   ],
   "source": [
    "import flask\n",
    "print(\"Hello World\")"
   ]
  },
  {
   "cell_type": "code",
   "execution_count": 3,
   "metadata": {},
   "outputs": [
    {
     "name": "stdout",
     "output_type": "stream",
     "text": [
      "Hellow World\n",
      "<class 'float'>\n"
     ]
    }
   ],
   "source": [
    "var1 = \"Hellow World\"\n",
    "var2 = 4 \n",
    "var3 = 45.23\n",
    "var4 = \"Shubham\"\n",
    "\n",
    "print(var1)\n",
    "print(type(var3))"
   ]
  },
  {
   "cell_type": "code",
   "execution_count": 1,
   "metadata": {},
   "outputs": [
    {
     "name": "stdout",
     "output_type": "stream",
     "text": [
      "100*var1\n",
      "Hellow World\n",
      "Hellow World\n",
      "Hellow World\n",
      "Hellow World\n",
      "Hellow World\n",
      "Hellow World\n",
      "Hellow World\n",
      "Hellow World\n",
      "Hellow World\n",
      "Hellow World\n",
      "\n"
     ]
    }
   ],
   "source": [
    "print(\"100*var1\")\n",
    "print(10 * \"Hellow World\\n\")\n"
   ]
  },
  {
   "cell_type": "code",
   "execution_count": 7,
   "metadata": {},
   "outputs": [
    {
     "name": "stdout",
     "output_type": "stream",
     "text": [
      "10\n",
      "20\n",
      "30\n"
     ]
    }
   ],
   "source": [
    "a = int(input())\n",
    "b = int(input())\n",
    "\n",
    "c = a + b\n",
    "print(int(c))\n"
   ]
  },
  {
   "cell_type": "code",
   "execution_count": 1,
   "metadata": {},
   "outputs": [
    {
     "name": "stdout",
     "output_type": "stream",
     "text": [
      "el o r o\n"
     ]
    }
   ],
   "source": [
    "mystr = \"Hello how are you\"\n",
    "print(mystr[1:19:2])"
   ]
  },
  {
   "cell_type": "code",
   "execution_count": 4,
   "metadata": {},
   "outputs": [
    {
     "name": "stdout",
     "output_type": "stream",
     "text": [
      "Fortnite\n"
     ]
    }
   ],
   "source": [
    "games = [\"R6\", \"CSGO\", \"Fortnite\", \"Warzone\", \"Apex\"]\n",
    "print(games[2])"
   ]
  },
  {
   "cell_type": "code",
   "execution_count": 10,
   "metadata": {},
   "outputs": [
    {
     "name": "stdout",
     "output_type": "stream",
     "text": [
      "[82, 65, 12, 7, 2]\n",
      "12\n"
     ]
    }
   ],
   "source": [
    "numbers = [2, 7, 12, 82, 65]\n",
    "numbers.sort()\n",
    "numbers.reverse()\n",
    "print(numbers)\n",
    "print(numbers[2])"
   ]
  },
  {
   "cell_type": "code",
   "execution_count": 18,
   "metadata": {},
   "outputs": [
    {
     "name": "stdout",
     "output_type": "stream",
     "text": [
      "[82, 65, 12, 7, 2]\n",
      "[82, 65, 12, 7, 2]\n",
      "[12, 7]\n",
      "[12, 7, 2]\n"
     ]
    }
   ],
   "source": [
    "#slicing\n",
    "\n",
    "print(numbers[0:5])\n",
    "print(numbers[:])\n",
    "print(numbers[2:4])\n",
    "print(numbers[-3:])"
   ]
  },
  {
   "cell_type": "code",
   "execution_count": 21,
   "metadata": {},
   "outputs": [
    {
     "name": "stdout",
     "output_type": "stream",
     "text": [
      "[82, 65, 12, 7, 2]\n",
      "[82, 12, 2]\n",
      "[12]\n"
     ]
    }
   ],
   "source": [
    "print(numbers[::])\n",
    "print(numbers[::2])\n",
    "print(numbers[2:5:3])"
   ]
  },
  {
   "cell_type": "code",
   "execution_count": 25,
   "metadata": {},
   "outputs": [
    {
     "name": "stdout",
     "output_type": "stream",
     "text": [
      "[4, 2, 7, 82, 65, 3]\n"
     ]
    }
   ],
   "source": [
    "number = [2, 7, 12, 82, 65]\n",
    "\n",
    "number.append(3)\n",
    "number.append(34)\n",
    "number.remove(12)\n",
    "number.insert(0,4)\n",
    "number.pop()\n",
    "print(number)"
   ]
  },
  {
   "cell_type": "code",
   "execution_count": 1,
   "metadata": {},
   "outputs": [
    {
     "name": "stdout",
     "output_type": "stream",
     "text": [
      "(1, 2, 3, 4)\n"
     ]
    }
   ],
   "source": [
    "tp = (1, 2, 3, 4)\n",
    "print(tp)"
   ]
  },
  {
   "cell_type": "code",
   "execution_count": 2,
   "metadata": {},
   "outputs": [
    {
     "name": "stdout",
     "output_type": "stream",
     "text": [
      "(1,)\n"
     ]
    }
   ],
   "source": [
    "# tupple \n",
    "\n",
    "tp1 = (1, )\n",
    "print(tp1)"
   ]
  },
  {
   "cell_type": "code",
   "execution_count": 6,
   "metadata": {},
   "outputs": [
    {
     "name": "stdout",
     "output_type": "stream",
     "text": [
      "5 1\n"
     ]
    }
   ],
   "source": [
    "# swap two numbers\n",
    "\n",
    "a = 1\n",
    "b = 5\n",
    "\n",
    "temp = a\n",
    "a = b\n",
    "b = temp\n",
    "\n",
    "print(a,b)"
   ]
  },
  {
   "cell_type": "code",
   "execution_count": 7,
   "metadata": {},
   "outputs": [
    {
     "name": "stdout",
     "output_type": "stream",
     "text": [
      "7 2\n"
     ]
    }
   ],
   "source": [
    "# swaping numbers with python \n",
    "\n",
    "c = 2 \n",
    "d = 7\n",
    "\n",
    "c,d = d,c\n",
    "print(c,d)"
   ]
  },
  {
   "cell_type": "code",
   "execution_count": 21,
   "metadata": {},
   "outputs": [
    {
     "name": "stdout",
     "output_type": "stream",
     "text": [
      "{}\n"
     ]
    }
   ],
   "source": [
    "# Dictonary\n",
    "d1 = {}\n",
    "print(d1)"
   ]
  },
  {
   "cell_type": "code",
   "execution_count": 16,
   "metadata": {},
   "outputs": [
    {
     "name": "stdout",
     "output_type": "stream",
     "text": [
      "{'Blackburn': 'Apex', 'Fantasic': 'R6', 'Storm': 'CSGO', 'Bloodhound': {'M': 'apex', 'E': 'r6', 'N': 'csgo'}}\n"
     ]
    }
   ],
   "source": [
    "d2 = {\"Blackburn\":\"Apex\", \"Fantasic\":\"R6\", \"Storm\":\"CSGO\",\"Bloodhound\":{\"M\":\"apex\", \"E\":\"r6\",\"N\":\"csgo\"}}\n",
    "print(d2)"
   ]
  },
  {
   "cell_type": "code",
   "execution_count": 17,
   "metadata": {},
   "outputs": [
    {
     "name": "stdout",
     "output_type": "stream",
     "text": [
      "Apex\n",
      "CSGO\n",
      "{'M': 'apex', 'E': 'r6', 'N': 'csgo'}\n"
     ]
    }
   ],
   "source": [
    "print(d2[\"Blackburn\"])\n",
    "print(d2[\"Storm\"])\n",
    "print(d2[\"Bloodhound\"])"
   ]
  },
  {
   "cell_type": "code",
   "execution_count": 18,
   "metadata": {},
   "outputs": [
    {
     "name": "stdout",
     "output_type": "stream",
     "text": [
      "r6\n"
     ]
    }
   ],
   "source": [
    "print(d2[\"Bloodhound\"][\"E\"])"
   ]
  },
  {
   "cell_type": "code",
   "execution_count": 22,
   "metadata": {},
   "outputs": [],
   "source": [
    "d2[\"Gergami\"] = \"Rocket League\""
   ]
  },
  {
   "cell_type": "code",
   "execution_count": 23,
   "metadata": {},
   "outputs": [
    {
     "name": "stdout",
     "output_type": "stream",
     "text": [
      "{'Blackburn': 'Apex', 'Fantasic': 'R6', 'Storm': 'CSGO', 'Bloodhound': {'M': 'apex', 'E': 'r6', 'N': 'csgo'}, 'Gergami': 'Rocket League'}\n"
     ]
    }
   ],
   "source": [
    "print(d2)"
   ]
  },
  {
   "cell_type": "code",
   "execution_count": 28,
   "metadata": {},
   "outputs": [
    {
     "name": "stdout",
     "output_type": "stream",
     "text": [
      "{'Blackburn': 'Apex', 'Fantasic': 'R6', 'Storm': 'CSGO', 'Bloodhound': {'M': 'apex', 'E': 'r6', 'N': 'csgo'}, 'Gergami': 'Rocket League', 'Luck': 'Minecraft'}\n"
     ]
    }
   ],
   "source": [
    "d2[\"Luck\"] = \"Minecraft\"\n",
    "print(d2)"
   ]
  },
  {
   "cell_type": "code",
   "execution_count": 29,
   "metadata": {},
   "outputs": [
    {
     "name": "stdout",
     "output_type": "stream",
     "text": [
      "{'Blackburn': 'Apex', 'Fantasic': 'R6', 'Storm': 'CSGO', 'Bloodhound': {'M': 'apex', 'E': 'r6', 'N': 'csgo'}, 'Gergami': 'Rocket League'}\n"
     ]
    }
   ],
   "source": [
    "del d2[\"Luck\"]\n",
    "print(d2)"
   ]
  },
  {
   "cell_type": "code",
   "execution_count": 55,
   "metadata": {},
   "outputs": [
    {
     "name": "stdout",
     "output_type": "stream",
     "text": [
      "{'Blackburn': 'Apex', 'Bloodhound': {'M': 'apex', 'E': 'r6', 'N': 'csgo'}, 'Gergami': 'Rocket League', 'Airbon': 'Valorant'}\n"
     ]
    }
   ],
   "source": [
    "d3 =d2\n",
    "print(d2.copy())"
   ]
  },
  {
   "cell_type": "code",
   "execution_count": 53,
   "metadata": {},
   "outputs": [
    {
     "name": "stdout",
     "output_type": "stream",
     "text": [
      "{'Blackburn': 'Apex', 'Bloodhound': {'M': 'apex', 'E': 'r6', 'N': 'csgo'}, 'Gergami': 'Rocket League', 'Airbon': 'Valorant'}\n"
     ]
    }
   ],
   "source": [
    "d2.update({\"Airbon\":\"Valorant\"})\n",
    "print(d2)"
   ]
  },
  {
   "cell_type": "code",
   "execution_count": 58,
   "metadata": {},
   "outputs": [
    {
     "name": "stdout",
     "output_type": "stream",
     "text": [
      "dict_keys(['Blackburn', 'Bloodhound', 'Gergami', 'Airbon'])\n",
      "dict_items([('Blackburn', 'Apex'), ('Bloodhound', {'M': 'apex', 'E': 'r6', 'N': 'csgo'}), ('Gergami', 'Rocket League'), ('Airbon', 'Valorant')])\n"
     ]
    }
   ],
   "source": [
    "print(d2.keys())\n",
    "print(d2.items())"
   ]
  },
  {
   "cell_type": "code",
   "execution_count": 4,
   "metadata": {},
   "outputs": [
    {
     "name": "stdout",
     "output_type": "stream",
     "text": [
      "Scared\n",
      "Horror\n"
     ]
    }
   ],
   "source": [
    "# Making a dictonary \n",
    "\n",
    "Dictonary = {\"Hello\":\"Hi\", \"Happy\":\"Joy\", \"Scared\":\"Horror\"}\n",
    "word = input()\n",
    "print(Dictonary[word])"
   ]
  },
  {
   "cell_type": "code",
   "execution_count": null,
   "metadata": {},
   "outputs": [],
   "source": [
    "# Sets\n",
    "s_from_list = set([1, 2, 3, 4])\n",
    "print(s_from_list)\n",
    "print(type(s_from_list))\n",
    "\n",
    "l = [2, 3, 5, 6]\n",
    "s1 = set(l)\n",
    "print(s1)\n",
    "print(type(s1))\n",
    "print(l)\n",
    "print(type(l))"
   ]
  },
  {
   "cell_type": "code",
   "execution_count": 9,
   "metadata": {},
   "outputs": [
    {
     "name": "stdout",
     "output_type": "stream",
     "text": [
      "{1, 2}\n"
     ]
    }
   ],
   "source": [
    "s = set() # sets does not add same no again\n",
    "s.add(1)\n",
    "s.add(1) # it wont add 1 again\n",
    "s.add(2)\n",
    "print(s)"
   ]
  },
  {
   "cell_type": "code",
   "execution_count": 12,
   "metadata": {},
   "outputs": [
    {
     "name": "stdout",
     "output_type": "stream",
     "text": [
      "{1, 2} {1, 2, 3}\n"
     ]
    }
   ],
   "source": [
    "s2 = s.union([1,2,3])\n",
    "print(s, s2)"
   ]
  },
  {
   "cell_type": "code",
   "execution_count": 13,
   "metadata": {},
   "outputs": [
    {
     "name": "stdout",
     "output_type": "stream",
     "text": [
      "{1, 2} {1, 2}\n"
     ]
    }
   ],
   "source": [
    "s3 = s.intersection([1,2,3])\n",
    "print(s,s3)"
   ]
  },
  {
   "cell_type": "code",
   "execution_count": 14,
   "metadata": {},
   "outputs": [
    {
     "name": "stdout",
     "output_type": "stream",
     "text": [
      "2\n",
      "2\n",
      "1\n"
     ]
    }
   ],
   "source": [
    "print(len(s))\n",
    "print(max(s))\n",
    "print(min(s))"
   ]
  },
  {
   "cell_type": "code",
   "execution_count": 17,
   "metadata": {},
   "outputs": [
    {
     "name": "stdout",
     "output_type": "stream",
     "text": [
      "True\n",
      "Yes\n"
     ]
    }
   ],
   "source": [
    "# if else statements\n",
    "\n",
    "list1 = [1, 5 ,7]\n",
    "print(5 in list1)\n",
    "if 5 in list1:\n",
    "    print(\"Yes\")"
   ]
  },
  {
   "cell_type": "code",
   "execution_count": 22,
   "metadata": {},
   "outputs": [
    {
     "name": "stdout",
     "output_type": "stream",
     "text": [
      "False\n"
     ]
    }
   ],
   "source": [
    "print(15 in list1)\n",
    "if 15 in list1:\n",
    "    print(\"Yes\")"
   ]
  },
  {
   "cell_type": "code",
   "execution_count": 23,
   "metadata": {},
   "outputs": [
    {
     "name": "stdout",
     "output_type": "stream",
     "text": [
      "True\n",
      "No not in list\n"
     ]
    }
   ],
   "source": [
    "# not in list\n",
    "print(15 not in list1)\n",
    "if 15 not in list1:\n",
    "    print(\"No not in list\")"
   ]
  },
  {
   "cell_type": "code",
   "execution_count": 29,
   "metadata": {},
   "outputs": [
    {
     "name": "stdout",
     "output_type": "stream",
     "text": [
      "23\n",
      "You can drive\n"
     ]
    }
   ],
   "source": [
    "age = int(input())\n",
    "\n",
    "if age>100:\n",
    "    print(\"Invalid Number\")\n",
    "    \n",
    "elif age<7:\n",
    "    print(\"Too small\")\n",
    "    \n",
    "elif age>18:\n",
    "    print(\"You can drive\")\n",
    "    \n",
    "elif age==18:\n",
    "    print(\"Give driving test\")\n",
    "else:\n",
    "    print(\"You are not eligible to drive\")\n",
    "    "
   ]
  },
  {
   "cell_type": "code",
   "execution_count": 1,
   "metadata": {},
   "outputs": [
    {
     "ename": "SyntaxError",
     "evalue": "invalid syntax (<ipython-input-1-704693d2884c>, line 5)",
     "output_type": "error",
     "traceback": [
      "\u001b[1;36m  File \u001b[1;32m\"<ipython-input-1-704693d2884c>\"\u001b[1;36m, line \u001b[1;32m5\u001b[0m\n\u001b[1;33m    if a == 45 and b = 3 and c == \"*\":\u001b[0m\n\u001b[1;37m                     ^\u001b[0m\n\u001b[1;31mSyntaxError\u001b[0m\u001b[1;31m:\u001b[0m invalid syntax\n"
     ]
    }
   ],
   "source": [
    "a = int(input(\"Enter first number: \"))\n",
    "b = int(input(\"Enter second number: \"))\n",
    "c = input(\"Enter the operator: \")\n",
    "\n",
    "if a == 45 and b = 3 and c == \"*\":\n",
    "    print(\"555\")\n",
    "    \n",
    "elif c == \"*\":\n",
    "    d = a*b\n",
    "    print(d)"
   ]
  },
  {
   "cell_type": "code",
   "execution_count": 4,
   "metadata": {},
   "outputs": [
    {
     "name": "stdout",
     "output_type": "stream",
     "text": [
      "100\n",
      "Try again\n",
      "10\n",
      "Try again\n",
      "102\n",
      "You entered a number greater than 100\n"
     ]
    }
   ],
   "source": [
    "# Enter a number grater than 100\n",
    "\n",
    "while(True):\n",
    "    a = int(input())\n",
    "    if a>100:\n",
    "        print(\"You entered a number greater than 100\")\n",
    "        break\n",
    "    else:\n",
    "        print(\"Try again\")\n",
    "        continue\n",
    "    "
   ]
  },
  {
   "cell_type": "code",
   "execution_count": 2,
   "metadata": {},
   "outputs": [
    {
     "name": "stdout",
     "output_type": "stream",
     "text": [
      "Addition of two numbers is 12\n"
     ]
    }
   ],
   "source": [
    "# Functions\n",
    "\n",
    "def function1(a,b):\n",
    "    print(\"Addition of two numbers is\", a+b)\n",
    "    \n",
    "function1(5,7)"
   ]
  },
  {
   "cell_type": "code",
   "execution_count": 7,
   "metadata": {},
   "outputs": [
    {
     "name": "stdout",
     "output_type": "stream",
     "text": [
      "1\n",
      "3\n",
      "Add two numbers: 4\n"
     ]
    }
   ],
   "source": [
    "# Functions(Taking input from user)\n",
    "\n",
    "a = int(input())\n",
    "b = int(input())\n",
    "\n",
    "def add(x,y):\n",
    "    print(\"Add two numbers:\", x+y)\n",
    "    \n",
    "add(a,b)"
   ]
  },
  {
   "cell_type": "code",
   "execution_count": 9,
   "metadata": {},
   "outputs": [
    {
     "name": "stdout",
     "output_type": "stream",
     "text": [
      "3\n",
      "4\n",
      "3.5\n"
     ]
    }
   ],
   "source": [
    "# Average using functions\n",
    "\n",
    "a = int(input())\n",
    "b = int(input())\n",
    "\n",
    "def average(x,y):\n",
    "    avg = (x+y)/2\n",
    "    print(avg)\n",
    "\n",
    "average(a,b)"
   ]
  },
  {
   "cell_type": "code",
   "execution_count": 13,
   "metadata": {},
   "outputs": [
    {
     "name": "stdout",
     "output_type": "stream",
     "text": [
      "10\n",
      "20\n",
      "15.0\n",
      "This function doesn't work for three numbers\n"
     ]
    }
   ],
   "source": [
    "# Average using functions(2nd Method)\n",
    "\n",
    "a = int(input())\n",
    "b = int(input())\n",
    "\n",
    "def average(x,y):\n",
    "    \"\"\"This function doesn't work for three numbers\"\"\"\n",
    "    avg = (x+y)/2\n",
    "    return avg      # Using return\n",
    "\n",
    "v = average(a,b)\n",
    "print(v)\n",
    "print(average.__doc__)"
   ]
  },
  {
   "cell_type": "code",
   "execution_count": 16,
   "metadata": {},
   "outputs": [
    {
     "name": "stdout",
     "output_type": "stream",
     "text": [
      "12\n",
      "num\n",
      "invalid literal for int() with base 10: 'num'\n",
      "This is a very important message\n"
     ]
    }
   ],
   "source": [
    "# Try except Execption handeling\n",
    "\n",
    "num1 = input()\n",
    "num2 = input()\n",
    "\n",
    "try:\n",
    "    print(\"The sum of numbers is: \", int(num1) + int(num2))\n",
    "    \n",
    "except Exception as error:\n",
    "    print(error)\n",
    "    \n",
    "print(\"This is a very important message\") # If given integer value it will print the sum"
   ]
  },
  {
   "cell_type": "code",
   "execution_count": 34,
   "metadata": {},
   "outputs": [
    {
     "name": "stdout",
     "output_type": "stream",
     "text": [
      "This is a test for writing notes using file writing\n",
      "You can add more notes\n",
      "You can add more notes\n",
      "You can add more notes\n",
      "You can add more notes\n",
      "You can add more notes\n",
      "You can add more notes\n",
      "\n"
     ]
    }
   ],
   "source": [
    "# File Reading\n",
    "\n",
    "f = open(\"File Reading.txt\")\n",
    "content = f.read()\n",
    "print(content) # It will read the whole content\n",
    "\n",
    "f.close()\n",
    "\n",
    "# print(f.readline()) # To read in lines\n",
    "# print(f.readlines()) # To read all lines "
   ]
  },
  {
   "cell_type": "code",
   "execution_count": 35,
   "metadata": {},
   "outputs": [],
   "source": [
    "# File Writing\n",
    "\n",
    "f = open(\"File Writing.txt\", \"w\")\n",
    "f.write(\"This is a test for writing notes using file writing\\n\")\n",
    "f.close()\n"
   ]
  },
  {
   "cell_type": "code",
   "execution_count": 36,
   "metadata": {},
   "outputs": [],
   "source": [
    "# Using append\n",
    " \n",
    "f = open(\"File Writing.txt\", \"a\")\n",
    "f.write(\"You can add more notes\\n\")\n",
    "f.close()"
   ]
  },
  {
   "cell_type": "code",
   "execution_count": 38,
   "metadata": {
    "scrolled": true
   },
   "outputs": [
    {
     "name": "stdout",
     "output_type": "stream",
     "text": [
      "This is a test for writing notes using file writing\n",
      "You can add more notes\n",
      "Thank you\n"
     ]
    }
   ],
   "source": [
    "# Read and Write both\n",
    "\n",
    "f = open(\"File Writing.txt\", \"r+\")\n",
    "print(f.read())\n",
    "f.write(\"Thank you\\n\")\n",
    "f.close()\n"
   ]
  },
  {
   "cell_type": "code",
   "execution_count": null,
   "metadata": {},
   "outputs": [],
   "source": []
  }
 ],
 "metadata": {
  "kernelspec": {
   "display_name": "Python 3",
   "language": "python",
   "name": "python3"
  },
  "language_info": {
   "codemirror_mode": {
    "name": "ipython",
    "version": 3
   },
   "file_extension": ".py",
   "mimetype": "text/x-python",
   "name": "python",
   "nbconvert_exporter": "python",
   "pygments_lexer": "ipython3",
   "version": "3.7.6"
  }
 },
 "nbformat": 4,
 "nbformat_minor": 4
}
